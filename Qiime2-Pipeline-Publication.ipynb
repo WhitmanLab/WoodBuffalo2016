{
 "cells": [
  {
   "cell_type": "markdown",
   "metadata": {},
   "source": [
    "# Qiime2 Pipeline (Version 2019.10)"
   ]
  },
  {
   "cell_type": "markdown",
   "metadata": {},
   "source": [
    "## Import Sequences and create quality-score plot visualizations"
   ]
  },
  {
   "cell_type": "code",
   "execution_count": 1,
   "metadata": {},
   "outputs": [
    {
     "name": "stdout",
     "output_type": "stream",
     "text": [
      "\u001b[32mImported ../WB2016-seqs/ as CasavaOneEightSingleLanePerSampleDirFmt to WB2016-seqs.qza\u001b[0m\r\n"
     ]
    }
   ],
   "source": [
    "!qiime tools import \\\n",
    "  --type 'SampleData[PairedEndSequencesWithQuality]' \\\n",
    "  --input-path ../WB2016-seqs/ \\\n",
    "  --input-format CasavaOneEightSingleLanePerSampleDirFmt \\\n",
    "  --output-path WB2016-seqs.qza"
   ]
  },
  {
   "cell_type": "code",
   "execution_count": 2,
   "metadata": {},
   "outputs": [
    {
     "name": "stdout",
     "output_type": "stream",
     "text": [
      "\u001b[32mSaved Visualization to: WB2016-seqs.qzv\u001b[0m\r\n"
     ]
    }
   ],
   "source": [
    "!qiime demux summarize \\\n",
    "--i-data WB2016-seqs.qza \\\n",
    "--o-visualization WB2016-seqs.qzv\n",
    "\n",
    "#!qiime tools view WB2016-seqs.qzv"
   ]
  },
  {
   "cell_type": "code",
   "execution_count": 7,
   "metadata": {
    "collapsed": true
   },
   "outputs": [
    {
     "name": "stdout",
     "output_type": "stream",
     "text": [
      "Press the 'q' key, Control-C, or Control-D to quit. This view may no longer be accessible or work correctly after quitting.\n",
      "Press the 'q' key, Control-C, or Control-D to quit. This view may no longer be accessible or work correctly after quitting."
     ]
    }
   ],
   "source": [
    "!qiime tools view WB2016-seqs.qzv"
   ]
  },
  {
   "cell_type": "markdown",
   "metadata": {},
   "source": [
    "## Quality control using DADA2 and generate OTU table\n",
    "#### Each dataset went through trimming and truncating optimization to allow for best sequence retention\n",
    "#### Noisy sequences were trimmed off the beginning and most datasets were truncated where sequences consistantly dropped under a qc-score of 35"
   ]
  },
  {
   "cell_type": "code",
   "execution_count": 4,
   "metadata": {
    "collapsed": true
   },
   "outputs": [
    {
     "name": "stdout",
     "output_type": "stream",
     "text": [
      "Running external command line application(s). This may print messages to stdout and/or stderr.\n",
      "The command(s) being run are below. These commands cannot be manually re-run as they will depend on temporary files that no longer exist.\n",
      "\n",
      "Command: run_dada_paired.R /var/folders/0f/ff5j1xns5jbgs40zs1d96b2w0000gn/T/tmp4uipt9hs/forward /var/folders/0f/ff5j1xns5jbgs40zs1d96b2w0000gn/T/tmp4uipt9hs/reverse /var/folders/0f/ff5j1xns5jbgs40zs1d96b2w0000gn/T/tmp4uipt9hs/output.tsv.biom /var/folders/0f/ff5j1xns5jbgs40zs1d96b2w0000gn/T/tmp4uipt9hs/track.tsv /var/folders/0f/ff5j1xns5jbgs40zs1d96b2w0000gn/T/tmp4uipt9hs/filt_f /var/folders/0f/ff5j1xns5jbgs40zs1d96b2w0000gn/T/tmp4uipt9hs/filt_r 230 230 15 10 2.0 2.0 2 consensus 1.0 0 1000000\n",
      "\n",
      "R version 3.5.1 (2018-07-02) \n",
      "Loading required package: Rcpp\n",
      "DADA2: 1.10.0 / Rcpp: 1.0.2 / RcppParallel: 4.4.4 \n",
      "1) Filtering .........................................................................................\n",
      "2) Learning Error Rates\n",
      "228135640 total bases in 1061096 reads from 18 samples will be used for learning the error rates.\n",
      "233441120 total bases in 1061096 reads from 18 samples will be used for learning the error rates.\n",
      "3) Denoise remaining samples .........................................................................................\n",
      "4) Remove chimeras (method = consensus)\n",
      "6) Write output\n",
      "\u001b[32mSaved FeatureTable[Frequency] to: WB2016-table.qza\u001b[0m\n",
      "\u001b[32mSaved FeatureData[Sequence] to: WB2016-rep-seqs.qza\u001b[0m\n",
      "\u001b[32mSaved SampleData[DADA2Stats] to: WB2016-stats.qza\u001b[0m\n"
     ]
    }
   ],
   "source": [
    "#stringent cutoffs\n",
    "\n",
    "!qiime dada2 denoise-paired --verbose \\\n",
    "  --i-demultiplexed-seqs WB2016-seqs.qza \\\n",
    "  --o-table WB2016-table \\\n",
    "  --o-representative-sequences WB2016-rep-seqs \\\n",
    "  --o-denoising-stats WB2016-stats \\\n",
    "  --p-n-threads 0 \\\n",
    "  --p-trim-left-f 15 \\\n",
    "  --p-trim-left-r 10 \\\n",
    "  --p-trunc-len-f 230 \\\n",
    "  --p-trunc-len-r 230 "
   ]
  },
  {
   "cell_type": "code",
   "execution_count": 8,
   "metadata": {
    "collapsed": true
   },
   "outputs": [
    {
     "name": "stdout",
     "output_type": "stream",
     "text": [
      "Running external command line application(s). This may print messages to stdout and/or stderr.\n",
      "The command(s) being run are below. These commands cannot be manually re-run as they will depend on temporary files that no longer exist.\n",
      "\n",
      "Command: run_dada_paired.R /var/folders/0f/ff5j1xns5jbgs40zs1d96b2w0000gn/T/tmpovx4580b/forward /var/folders/0f/ff5j1xns5jbgs40zs1d96b2w0000gn/T/tmpovx4580b/reverse /var/folders/0f/ff5j1xns5jbgs40zs1d96b2w0000gn/T/tmpovx4580b/output.tsv.biom /var/folders/0f/ff5j1xns5jbgs40zs1d96b2w0000gn/T/tmpovx4580b/track.tsv /var/folders/0f/ff5j1xns5jbgs40zs1d96b2w0000gn/T/tmpovx4580b/filt_f /var/folders/0f/ff5j1xns5jbgs40zs1d96b2w0000gn/T/tmpovx4580b/filt_r 240 230 10 10 2.0 2.0 2 consensus 1.0 0 1000000\n",
      "\n",
      "R version 3.5.1 (2018-07-02) \n",
      "Loading required package: Rcpp\n",
      "DADA2: 1.10.0 / Rcpp: 1.0.2 / RcppParallel: 4.4.4 \n",
      "1) Filtering .........................................................................................\n",
      "2) Learning Error Rates\n",
      "241244700 total bases in 1048890 reads from 18 samples will be used for learning the error rates.\n",
      "230755800 total bases in 1048890 reads from 18 samples will be used for learning the error rates.\n",
      "3) Denoise remaining samples .........................................................................................\n",
      "4) Remove chimeras (method = consensus)\n",
      "6) Write output\n",
      "\u001b[32mSaved FeatureTable[Frequency] to: WB2016-table2.qza\u001b[0m\n",
      "\u001b[32mSaved FeatureData[Sequence] to: WB2016-rep-seqs2.qza\u001b[0m\n",
      "\u001b[32mSaved SampleData[DADA2Stats] to: WB2016-stats2.qza\u001b[0m\n"
     ]
    }
   ],
   "source": [
    "# Try with less stringent parameters:\n",
    "\n",
    "!qiime dada2 denoise-paired --verbose \\\n",
    "  --i-demultiplexed-seqs WB2016-seqs.qza \\\n",
    "  --o-table WB2016-table2 \\\n",
    "  --o-representative-sequences WB2016-rep-seqs2 \\\n",
    "  --o-denoising-stats WB2016-stats2 \\\n",
    "  --p-n-threads 0 \\\n",
    "  --p-trim-left-f 10 \\\n",
    "  --p-trim-left-r 10 \\\n",
    "  --p-trunc-len-f 240 \\\n",
    "  --p-trunc-len-r 230"
   ]
  },
  {
   "cell_type": "code",
   "execution_count": 5,
   "metadata": {},
   "outputs": [
    {
     "name": "stdout",
     "output_type": "stream",
     "text": [
      "\u001b[32mSaved Visualization to: WB2016-table.qzv\u001b[0m\n",
      "\u001b[32mSaved Visualization to: WB2016-rep-seqs.qzv\u001b[0m\n"
     ]
    }
   ],
   "source": [
    "# Create visualizations for OTU table and representative sequences\n",
    "!qiime feature-table summarize \\\n",
    "--i-table WB2016-table.qza \\\n",
    "--o-visualization WB2016-table.qzv \n",
    "\n",
    "!qiime feature-table tabulate-seqs \\\n",
    "--i-data WB2016-rep-seqs.qza \\\n",
    "--o-visualization WB2016-rep-seqs.qzv\n",
    "\n",
    "# View visualizations for OTU table and representative sequences \n",
    "#!qiime tools view WB2016-table.qzv\n",
    "#!qiime tools view WB2016-rep-seqs.qzv"
   ]
  },
  {
   "cell_type": "code",
   "execution_count": 10,
   "metadata": {},
   "outputs": [
    {
     "name": "stdout",
     "output_type": "stream",
     "text": [
      "\u001b[32mSaved Visualization to: WB2016-table2.qzv\u001b[0m\n",
      "\u001b[32mSaved Visualization to: WB2016-rep-seqs2.qzv\u001b[0m\n"
     ]
    }
   ],
   "source": [
    "# Create visualizations for OTU table and representative sequences\n",
    "!qiime feature-table summarize \\\n",
    "--i-table WB2016-table2.qza \\\n",
    "--o-visualization WB2016-table2.qzv \n",
    "\n",
    "!qiime feature-table tabulate-seqs \\\n",
    "--i-data WB2016-rep-seqs2.qza \\\n",
    "--o-visualization WB2016-rep-seqs2.qzv"
   ]
  },
  {
   "cell_type": "code",
   "execution_count": null,
   "metadata": {},
   "outputs": [
    {
     "name": "stdout",
     "output_type": "stream",
     "text": [
      "Press the 'q' key, Control-C, or Control-D to quit. This view may no longer be accessible or work correctly after quitting."
     ]
    }
   ],
   "source": [
    "!qiime tools view WB2016-table.qzv\n",
    "\n",
    "#Number of samples\t89\n",
    "#Number of features\t22,390\n",
    "#Total frequency\t3,593,901"
   ]
  },
  {
   "cell_type": "code",
   "execution_count": null,
   "metadata": {},
   "outputs": [],
   "source": [
    "!qiime tools view WB2016-table2.qzv\n",
    "\n",
    "#Number of samples\t89\n",
    "#Number of features\t22,486\n",
    "#Total frequency\t3,521,095"
   ]
  },
  {
   "cell_type": "markdown",
   "metadata": {},
   "source": [
    "# Taxonomy assignment"
   ]
  },
  {
   "cell_type": "markdown",
   "metadata": {},
   "source": [
    "Download qiime 138 silva classifiers made by Mike Robeson on dropbox: https://www.dropbox.com/sh/nz7c5asn6b3hr1j/AAA9zGchu8Ya2Z93g6H7Xk65a?dl=0 (version 0.01)"
   ]
  },
  {
   "cell_type": "markdown",
   "metadata": {},
   "source": [
    "### Classify representative sequences"
   ]
  },
  {
   "cell_type": "code",
   "execution_count": 9,
   "metadata": {},
   "outputs": [
    {
     "name": "stdout",
     "output_type": "stream",
     "text": [
      "\u001b[32mSaved FeatureData[Taxonomy] to: WB2016-taxonomy.qza\u001b[0m\r\n"
     ]
    }
   ],
   "source": [
    "## This step sometimes freezes up\n",
    "\n",
    "!qiime feature-classifier classify-sklearn \\\n",
    "  --i-classifier silva-138-qiime/Silva-v138-515f-806r-taxonomy-classifier.qza \\\n",
    "  --i-reads  WB2016-rep-seqs.qza \\\n",
    "  --o-classification  WB2016-taxonomy.qza \n",
    "\n"
   ]
  },
  {
   "cell_type": "markdown",
   "metadata": {},
   "source": [
    "## Export representative sequences, taxonomy, OTU table, and metadata to create a .biom file to use for data analysis"
   ]
  },
  {
   "cell_type": "code",
   "execution_count": 1,
   "metadata": {},
   "outputs": [],
   "source": [
    "!mkdir  WB2016_OTU_table"
   ]
  },
  {
   "cell_type": "code",
   "execution_count": 2,
   "metadata": {},
   "outputs": [
    {
     "name": "stdout",
     "output_type": "stream",
     "text": [
      "\u001b[32mExported WB2016-table.qza as BIOMV210DirFmt to directory WB2016_OTU_table-new\u001b[0m\n",
      "\u001b[32mExported WB2016-rep-seqs.qza as DNASequencesDirectoryFormat to directory WB2016_OTU_table-new\u001b[0m\n",
      "\u001b[32mExported WB2016-taxonomy.qza as TSVTaxonomyDirectoryFormat to directory WB2016_OTU_table-new\u001b[0m\n"
     ]
    }
   ],
   "source": [
    "!qiime tools export  --input-path WB2016-table.qza --output-path WB2016_OTU_table\n",
    "!qiime tools export  --input-path WB2016-rep-seqs.qza --output-path WB2016_OTU_table\n",
    "!qiime tools export  --input-path WB2016-taxonomy.qza --output-path WB2016_OTU_table"
   ]
  },
  {
   "cell_type": "code",
   "execution_count": 3,
   "metadata": {},
   "outputs": [],
   "source": [
    "!cp WB2016-metadata.txt WB2016_OTU_table/"
   ]
  },
  {
   "cell_type": "code",
   "execution_count": 1,
   "metadata": {},
   "outputs": [
    {
     "name": "stdout",
     "output_type": "stream",
     "text": [
      "WB2016-metadata-new.txt             feature-table-metaD-tax_json.biom\r\n",
      "dna-sequences.fasta                 feature-table-metaD.biom\r\n",
      "feature-table-metaD-tax-summary.txt feature-table.biom\r\n",
      "feature-table-metaD-tax.biom        taxonomy.tsv\r\n"
     ]
    }
   ],
   "source": [
    "# Check out files in directory; should have dna-sequences.fastq, taxonomy.tsv, feature-table.biom, and the metadata.txt\n",
    "\n",
    "!ls WB2016_OTU_table"
   ]
  },
  {
   "cell_type": "code",
   "execution_count": 2,
   "metadata": {},
   "outputs": [],
   "source": [
    "# Add information from metadata.txt to the feature-table.biom\n",
    "\n",
    "!biom add-metadata \\\n",
    "-i WB2016_OTU_table/feature-table.biom \\\n",
    "-o WB2016_OTU_table/feature-table-metaD.biom \\\n",
    "-m WB2016_OTU_table/WB2016-metadata.txt"
   ]
  },
  {
   "cell_type": "code",
   "execution_count": 3,
   "metadata": {},
   "outputs": [],
   "source": [
    "# Add taxonomy data\n",
    "!biom add-metadata \\\n",
    "-i WB2016_OTU_table/feature-table-metaD.biom \\\n",
    "-o WB2016_OTU_table/feature-table-metaD-tax.biom \\\n",
    "--observation-metadata-fp WB2016_OTU_table/taxonomy.tsv \\\n",
    "--sc-separated taxonomy \\\n",
    "--observation-header OTUID,taxonomy"
   ]
  },
  {
   "cell_type": "code",
   "execution_count": 4,
   "metadata": {},
   "outputs": [],
   "source": [
    "# Check your work by creating a summary text file - view summary to make sure information was saved to .biom\n",
    "!biom summarize-table \\\n",
    "-i WB2016_OTU_table/feature-table-metaD-tax.biom \\\n",
    "-o WB2016_OTU_table/feature-table-metaD-tax-summary.txt\n",
    "\n"
   ]
  },
  {
   "cell_type": "code",
   "execution_count": 5,
   "metadata": {},
   "outputs": [
    {
     "name": "stdout",
     "output_type": "stream",
     "text": [
      "Num samples: 89\n",
      "Num observations: 22,390\n",
      "Total count: 3,593,901\n",
      "Table density (fraction of non-zero values): 0.036\n",
      "\n",
      "Counts/sample summary:\n",
      " Min: 333.000\n",
      " Max: 77,460.000\n",
      " Median: 40,510.000\n",
      " Mean: 40,380.910\n",
      " Std. dev.: 14,290.007\n",
      " Sample Metadata Categories: BETUPAP_Seedling_Dens_m2; Broadleaf_BA; Broadleaf_Biomass; Broadleaf_Seedling_Dens_m2; Broadleaf_stems; CEC; CMD_Ann_19812010; CMD_Ann_19912017; CMD_Y; CMD_Y-1; CMD_Y-1_Mean_Departure; CMD_Y1; CMD_Y1_Mean_Departure; CMD_Y2; CMD_Y2_Mean_Departure; CMD_Y_Mean_Departure; Ca; Clay; Conifer_BA; Conifer_Biomass; Conifer_Seedling_Dens_m2; Conifer_stems; EC; Ecosite_Name; Ecosite_Phase; Elevation; Forb_Cover; Forb_Richness; Graminoid_Cover; Graminoid_Richness; Indic_Class; Interval; K; LARILAR_Seedling_Dens_m2; Land_Class; Latitude; Leading_Species; Lichen_Cover; Lichen_Richness; Load_Rotten_nologs; Load_Sound_nologs; Longitude; MAP_Ann_19812010; MAT_Ann_19812010; Mean_Overstory_Density_Pct; Mg; Mineral_Soil; Moisture_Numeric; Moisture_Regime; Na; No_Trees; Nonvascular_Cover; Nonvascular_Richness; Old_Sites; Old_Year; Organic_Matter; Overstory_BA_Ha_Live; Overstory_Broadleaf_BA_Ha_Live; Overstory_Broadleaf_Biomass_kg_Ha_Live; Overstory_Broadleaf_Stems_Ha_Live; Overstory_Conifer_BA_Ha_Live; Overstory_Conifer_Biomass_kg_Ha_Live; Overstory_Conifer_Stems_Ha_Live; Overstory_Stems_Ha_Live; Overstory_Total_Biomass_kg_Ha_Live; PCt_Conifer_Seedlings; PICEGLA_Seedling_Dens_m2; PICEMAR_Seedling_Dens_m2; PICE_Seedling_Dens_m2; PINUBAN_Seedling_Dens_m2; POPUBAL_Seedling_Dens_m2; POPUTRE_Seedling_Dens_m2; Pair_ID; Pct_Conifer_BA; Pct_Conifer_Biomass; Pct_Conifer_Stems; Recent_Interval; Recent_Year; Sand; Shrub_Cover; Shrub_Richness; Shrubs_m2; Silt; Site_ID; Soil_layer; TC; TSLF_At_Sample; Total N; Total S; Total_BA; Total_Biomass; Total_CWD_Load_Kg_m2; Total_Load_Rotten; Total_Load_Sound; Total_Seedling_Dens_m2; Total_Veg_Richness; Total_stems; Understocked; Understory_BA_Ha_Live; Understory_Broadleaf_BA_Ha_Live; Understory_Broadleaf_Biomass_kg_Ha_Live; Understory_Broadleaf_Stems_Ha_Live; Understory_Conifer_BA_Ha_Live; Understory_Conifer_Biomass_kg_Ha_Live; Understory_Conifer_Stems_Ha_Live; Understory_Stems_Ha_Live; Understory_Total_Biomass_kg_Ha_Live; Unknown_Cover; Vascular_Richness; fwd_barcode; jitterx; jittery; pH; rev_barcode\n",
      " Observation Metadata Categories: taxonomy\n",
      "\n",
      "Counts/sample detail:\n",
      "WB16-B4: 333.000\n",
      "WB16-B26: 1,454.000\n",
      "WB16-B3: 3,050.000\n",
      "WB16-B1: 6,095.000\n",
      "WB16-B23: 6,312.000\n"
     ]
    }
   ],
   "source": [
    "!head -20 WB2016_OTU_table/feature-table-metaD-tax-summary.txt"
   ]
  },
  {
   "cell_type": "code",
   "execution_count": 6,
   "metadata": {},
   "outputs": [],
   "source": [
    "# convert the .biom to json format to work with phyloseq package\n",
    "!biom convert \\\n",
    "-i WB2016_OTU_table/feature-table-metaD-tax.biom \\\n",
    "-o WB2016_OTU_table/feature-table-metaD-tax_json.biom \\\n",
    "--table-type=\"OTU table\" \\\n",
    "--to-json"
   ]
  },
  {
   "cell_type": "code",
   "execution_count": null,
   "metadata": {},
   "outputs": [],
   "source": []
  }
 ],
 "metadata": {
  "kernelspec": {
   "display_name": "Python 3",
   "language": "python",
   "name": "python3"
  },
  "language_info": {
   "codemirror_mode": {
    "name": "ipython",
    "version": 3
   },
   "file_extension": ".py",
   "mimetype": "text/x-python",
   "name": "python",
   "nbconvert_exporter": "python",
   "pygments_lexer": "ipython3",
   "version": "3.6.7"
  }
 },
 "nbformat": 4,
 "nbformat_minor": 2
}
